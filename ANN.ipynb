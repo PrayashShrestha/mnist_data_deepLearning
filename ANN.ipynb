{
 "cells": [
  {
   "cell_type": "code",
   "execution_count": 1,
   "id": "d8d50f3f",
   "metadata": {},
   "outputs": [],
   "source": [
    "import tensorflow as tf"
   ]
  },
  {
   "cell_type": "markdown",
   "id": "f594d03f",
   "metadata": {},
   "source": [
    "#### Tensorflow is a free and open-source library for machine learning and artificial intelligence"
   ]
  },
  {
   "cell_type": "code",
   "execution_count": 2,
   "id": "a1de727d",
   "metadata": {},
   "outputs": [
    {
     "data": {
      "text/plain": [
       "'2.7.0'"
      ]
     },
     "execution_count": 2,
     "metadata": {},
     "output_type": "execute_result"
    }
   ],
   "source": [
    "tf.__version__"
   ]
  },
  {
   "cell_type": "markdown",
   "id": "33f972a2",
   "metadata": {},
   "source": [
    "#### Keras is a high level API for tensorflow"
   ]
  },
  {
   "cell_type": "code",
   "execution_count": 3,
   "id": "5cb239b8",
   "metadata": {},
   "outputs": [
    {
     "data": {
      "text/plain": [
       "'2.7.0'"
      ]
     },
     "execution_count": 3,
     "metadata": {},
     "output_type": "execute_result"
    }
   ],
   "source": [
    "tf.keras.__version__"
   ]
  },
  {
   "cell_type": "markdown",
   "id": "ad420e87",
   "metadata": {},
   "source": [
    "### List Hardware available for tenserflow : CPU and GPU"
   ]
  },
  {
   "cell_type": "code",
   "execution_count": 4,
   "id": "2440b933",
   "metadata": {},
   "outputs": [
    {
     "data": {
      "text/plain": [
       "[PhysicalDevice(name='/physical_device:CPU:0', device_type='CPU')]"
      ]
     },
     "execution_count": 4,
     "metadata": {},
     "output_type": "execute_result"
    }
   ],
   "source": [
    "tf.config.list_physical_devices(\"CPU\")"
   ]
  },
  {
   "cell_type": "code",
   "execution_count": 5,
   "id": "ef30af15",
   "metadata": {},
   "outputs": [
    {
     "data": {
      "text/plain": [
       "[]"
      ]
     },
     "execution_count": 5,
     "metadata": {},
     "output_type": "execute_result"
    }
   ],
   "source": [
    "tf.config.list_physical_devices(\"GPU\")"
   ]
  },
  {
   "cell_type": "code",
   "execution_count": 6,
   "id": "a7a3a2bb",
   "metadata": {},
   "outputs": [
    {
     "name": "stderr",
     "output_type": "stream",
     "text": [
      "2022-05-02 15:16:40.024264: I tensorflow/core/platform/cpu_feature_guard.cc:151] This TensorFlow binary is optimized with oneAPI Deep Neural Network Library (oneDNN) to use the following CPU instructions in performance-critical operations:  SSE4.1 SSE4.2\n",
      "To enable them in other operations, rebuild TensorFlow with the appropriate compiler flags.\n"
     ]
    },
    {
     "data": {
      "text/plain": [
       "<tensorflow.python.eager.context._EagerDeviceContext at 0x7fa98a820e40>"
      ]
     },
     "execution_count": 6,
     "metadata": {},
     "output_type": "execute_result"
    }
   ],
   "source": [
    "tf.device('/device:GPU:0')"
   ]
  },
  {
   "cell_type": "markdown",
   "id": "da4d63eb",
   "metadata": {},
   "source": [
    "## Working on mnist dataset"
   ]
  },
  {
   "cell_type": "code",
   "execution_count": 19,
   "id": "be468f85",
   "metadata": {},
   "outputs": [],
   "source": [
    "import numpy as np\n",
    "import matplotlib.pyplot as plt \n",
    "import pandas as pd\n",
    "import seaborn as sns"
   ]
  },
  {
   "cell_type": "code",
   "execution_count": 8,
   "id": "5d40a719",
   "metadata": {},
   "outputs": [],
   "source": [
    "mnist = tf.keras.datasets.mnist"
   ]
  },
  {
   "cell_type": "code",
   "execution_count": 9,
   "id": "52176e0e",
   "metadata": {},
   "outputs": [],
   "source": [
    "(X_train_full, y_train_full), (X_test, y_test) = mnist.load_data() # mnist data has 10 classes (0-9)"
   ]
  },
  {
   "cell_type": "code",
   "execution_count": 10,
   "id": "f4f93a53",
   "metadata": {},
   "outputs": [
    {
     "data": {
      "text/plain": [
       "(60000, 28, 28)"
      ]
     },
     "execution_count": 10,
     "metadata": {},
     "output_type": "execute_result"
    }
   ],
   "source": [
    "X_train_full.shape # includes 6000 images of 28*28 size"
   ]
  },
  {
   "cell_type": "code",
   "execution_count": 11,
   "id": "a856b5eb",
   "metadata": {},
   "outputs": [
    {
     "data": {
      "text/plain": [
       "(60000,)"
      ]
     },
     "execution_count": 11,
     "metadata": {},
     "output_type": "execute_result"
    }
   ],
   "source": [
    "y_train_full.shape # y is the output, it a simple integer value so no size"
   ]
  },
  {
   "cell_type": "markdown",
   "id": "c4f9c7ab",
   "metadata": {},
   "source": [
    "##### Let's look more over the data points"
   ]
  },
  {
   "cell_type": "code",
   "execution_count": 12,
   "id": "fc60d42c",
   "metadata": {},
   "outputs": [
    {
     "data": {
      "text/plain": [
       "(28, 28)"
      ]
     },
     "execution_count": 12,
     "metadata": {},
     "output_type": "execute_result"
    }
   ],
   "source": [
    "X_train_full[0].shape # prints the size of the image"
   ]
  },
  {
   "cell_type": "code",
   "execution_count": 14,
   "id": "fd18118d",
   "metadata": {},
   "outputs": [
    {
     "data": {
      "text/plain": [
       "5"
      ]
     },
     "execution_count": 14,
     "metadata": {},
     "output_type": "execute_result"
    }
   ],
   "source": [
    "y_train_full[0] # prints the value present in the first row"
   ]
  },
  {
   "cell_type": "code",
   "execution_count": 16,
   "id": "7a4aa5d5",
   "metadata": {},
   "outputs": [
    {
     "data": {
      "text/plain": [
       "array([[  0,   0,   0,   0,   0,   0,   0,   0,   0,   0,   0,   0,   0,\n",
       "          0,   0,   0,   0,   0,   0,   0,   0,   0,   0,   0,   0,   0,\n",
       "          0,   0],\n",
       "       [  0,   0,   0,   0,   0,   0,   0,   0,   0,   0,   0,   0,   0,\n",
       "          0,   0,   0,   0,   0,   0,   0,   0,   0,   0,   0,   0,   0,\n",
       "          0,   0],\n",
       "       [  0,   0,   0,   0,   0,   0,   0,   0,   0,   0,   0,   0,   0,\n",
       "          0,   0,   0,   0,   0,   0,   0,   0,   0,   0,   0,   0,   0,\n",
       "          0,   0],\n",
       "       [  0,   0,   0,   0,   0,   0,   0,   0,   0,   0,   0,   0,   0,\n",
       "          0,   0,   0,   0,   0,   0,   0,   0,   0,   0,   0,   0,   0,\n",
       "          0,   0],\n",
       "       [  0,   0,   0,   0,   0,   0,   0,   0,   0,   0,   0,   0,   0,\n",
       "          0,   0,   0,   0,   0,   0,   0,   0,   0,   0,   0,   0,   0,\n",
       "          0,   0],\n",
       "       [  0,   0,   0,   0,   0,   0,   0,   0,   0,   0,   0,   0,   3,\n",
       "         18,  18,  18, 126, 136, 175,  26, 166, 255, 247, 127,   0,   0,\n",
       "          0,   0],\n",
       "       [  0,   0,   0,   0,   0,   0,   0,   0,  30,  36,  94, 154, 170,\n",
       "        253, 253, 253, 253, 253, 225, 172, 253, 242, 195,  64,   0,   0,\n",
       "          0,   0],\n",
       "       [  0,   0,   0,   0,   0,   0,   0,  49, 238, 253, 253, 253, 253,\n",
       "        253, 253, 253, 253, 251,  93,  82,  82,  56,  39,   0,   0,   0,\n",
       "          0,   0],\n",
       "       [  0,   0,   0,   0,   0,   0,   0,  18, 219, 253, 253, 253, 253,\n",
       "        253, 198, 182, 247, 241,   0,   0,   0,   0,   0,   0,   0,   0,\n",
       "          0,   0],\n",
       "       [  0,   0,   0,   0,   0,   0,   0,   0,  80, 156, 107, 253, 253,\n",
       "        205,  11,   0,  43, 154,   0,   0,   0,   0,   0,   0,   0,   0,\n",
       "          0,   0],\n",
       "       [  0,   0,   0,   0,   0,   0,   0,   0,   0,  14,   1, 154, 253,\n",
       "         90,   0,   0,   0,   0,   0,   0,   0,   0,   0,   0,   0,   0,\n",
       "          0,   0],\n",
       "       [  0,   0,   0,   0,   0,   0,   0,   0,   0,   0,   0, 139, 253,\n",
       "        190,   2,   0,   0,   0,   0,   0,   0,   0,   0,   0,   0,   0,\n",
       "          0,   0],\n",
       "       [  0,   0,   0,   0,   0,   0,   0,   0,   0,   0,   0,  11, 190,\n",
       "        253,  70,   0,   0,   0,   0,   0,   0,   0,   0,   0,   0,   0,\n",
       "          0,   0],\n",
       "       [  0,   0,   0,   0,   0,   0,   0,   0,   0,   0,   0,   0,  35,\n",
       "        241, 225, 160, 108,   1,   0,   0,   0,   0,   0,   0,   0,   0,\n",
       "          0,   0],\n",
       "       [  0,   0,   0,   0,   0,   0,   0,   0,   0,   0,   0,   0,   0,\n",
       "         81, 240, 253, 253, 119,  25,   0,   0,   0,   0,   0,   0,   0,\n",
       "          0,   0],\n",
       "       [  0,   0,   0,   0,   0,   0,   0,   0,   0,   0,   0,   0,   0,\n",
       "          0,  45, 186, 253, 253, 150,  27,   0,   0,   0,   0,   0,   0,\n",
       "          0,   0],\n",
       "       [  0,   0,   0,   0,   0,   0,   0,   0,   0,   0,   0,   0,   0,\n",
       "          0,   0,  16,  93, 252, 253, 187,   0,   0,   0,   0,   0,   0,\n",
       "          0,   0],\n",
       "       [  0,   0,   0,   0,   0,   0,   0,   0,   0,   0,   0,   0,   0,\n",
       "          0,   0,   0,   0, 249, 253, 249,  64,   0,   0,   0,   0,   0,\n",
       "          0,   0],\n",
       "       [  0,   0,   0,   0,   0,   0,   0,   0,   0,   0,   0,   0,   0,\n",
       "          0,  46, 130, 183, 253, 253, 207,   2,   0,   0,   0,   0,   0,\n",
       "          0,   0],\n",
       "       [  0,   0,   0,   0,   0,   0,   0,   0,   0,   0,   0,   0,  39,\n",
       "        148, 229, 253, 253, 253, 250, 182,   0,   0,   0,   0,   0,   0,\n",
       "          0,   0],\n",
       "       [  0,   0,   0,   0,   0,   0,   0,   0,   0,   0,  24, 114, 221,\n",
       "        253, 253, 253, 253, 201,  78,   0,   0,   0,   0,   0,   0,   0,\n",
       "          0,   0],\n",
       "       [  0,   0,   0,   0,   0,   0,   0,   0,  23,  66, 213, 253, 253,\n",
       "        253, 253, 198,  81,   2,   0,   0,   0,   0,   0,   0,   0,   0,\n",
       "          0,   0],\n",
       "       [  0,   0,   0,   0,   0,   0,  18, 171, 219, 253, 253, 253, 253,\n",
       "        195,  80,   9,   0,   0,   0,   0,   0,   0,   0,   0,   0,   0,\n",
       "          0,   0],\n",
       "       [  0,   0,   0,   0,  55, 172, 226, 253, 253, 253, 253, 244, 133,\n",
       "         11,   0,   0,   0,   0,   0,   0,   0,   0,   0,   0,   0,   0,\n",
       "          0,   0],\n",
       "       [  0,   0,   0,   0, 136, 253, 253, 253, 212, 135, 132,  16,   0,\n",
       "          0,   0,   0,   0,   0,   0,   0,   0,   0,   0,   0,   0,   0,\n",
       "          0,   0],\n",
       "       [  0,   0,   0,   0,   0,   0,   0,   0,   0,   0,   0,   0,   0,\n",
       "          0,   0,   0,   0,   0,   0,   0,   0,   0,   0,   0,   0,   0,\n",
       "          0,   0],\n",
       "       [  0,   0,   0,   0,   0,   0,   0,   0,   0,   0,   0,   0,   0,\n",
       "          0,   0,   0,   0,   0,   0,   0,   0,   0,   0,   0,   0,   0,\n",
       "          0,   0],\n",
       "       [  0,   0,   0,   0,   0,   0,   0,   0,   0,   0,   0,   0,   0,\n",
       "          0,   0,   0,   0,   0,   0,   0,   0,   0,   0,   0,   0,   0,\n",
       "          0,   0]], dtype=uint8)"
      ]
     },
     "execution_count": 16,
     "metadata": {},
     "output_type": "execute_result"
    }
   ],
   "source": [
    "X_train_full[0] # This gives the image pixel value so we need to use imshow to visualize the image"
   ]
  },
  {
   "cell_type": "markdown",
   "id": "6a2e3c78",
   "metadata": {},
   "source": [
    "#### Let's visualize the data present in more elegent way"
   ]
  },
  {
   "cell_type": "code",
   "execution_count": 23,
   "id": "b986b6c6",
   "metadata": {},
   "outputs": [
    {
     "data": {
      "image/png": "[encoded data removed]",
      "text/plain": [
       "<Figure size 432x288 with 1 Axes>"
      ]
     },
     "metadata": {
      "needs_background": "light"
     },
     "output_type": "display_data"
    }
   ],
   "source": [
    "img = X_train_full[0]\n",
    "plt.imshow(img, cmap=\"binary\")\n",
    "plt.axis(\"off\") # just to get rid of the axis lines\n",
    "plt.show()"
   ]
  },
  {
   "cell_type": "code",
   "execution_count": 27,
   "id": "7ffe8250",
   "metadata": {},
   "outputs": [
    {
     "data": {
      "text/plain": [
       "<AxesSubplot:>"
      ]
     },
     "execution_count": 27,
     "metadata": {},
     "output_type": "execute_result"
    },
    {
     "data": {
      "image/png": "[encoded data removed]",
      "text/plain": [
       "<Figure size 1440x1440 with 2 Axes>"
      ]
     },
     "metadata": {
      "needs_background": "light"
     },
     "output_type": "display_data"
    }
   ],
   "source": [
    "plt.figure(figsize = (20, 20))\n",
    "\n",
    "# Plot rectangular data as a color-encoded matrix.\n",
    "sns.heatmap(img, annot= True, cmap=\"binary\") # annot true writes the value of each cell"
   ]
  },
  {
   "cell_type": "markdown",
   "id": "10d6b6c9",
   "metadata": {},
   "source": [
    "#### If we look over the plot then we see that the data are so congusted so let's try to normalize the data between (0-1)"
   ]
  },
  {
   "cell_type": "code",
   "execution_count": 32,
   "id": "9930acb2",
   "metadata": {},
   "outputs": [
    {
     "data": {
      "text/plain": [
       "(0, 255)"
      ]
     },
     "execution_count": 32,
     "metadata": {},
     "output_type": "execute_result"
    }
   ],
   "source": [
    "(img.min(), img.max()) # the value in the image renges from 0-255 so"
   ]
  },
  {
   "cell_type": "code",
   "execution_count": 37,
   "id": "ba079da2",
   "metadata": {},
   "outputs": [
    {
     "data": {
      "text/plain": [
       "<AxesSubplot:>"
      ]
     },
     "execution_count": 37,
     "metadata": {},
     "output_type": "execute_result"
    },
    {
     "data": {
      "image/png": "[encoded data removed]",
      "text/plain": [
       "<Figure size 1440x1440 with 2 Axes>"
      ]
     },
     "metadata": {
      "needs_background": "light"
     },
     "output_type": "display_data"
    }
   ],
   "source": [
    "plt.figure(figsize = (20,20))\n",
    "sns.heatmap(img/255, annot= True, cmap=\"binary\")"
   ]
  },
  {
   "cell_type": "markdown",
   "id": "9e8bf847",
   "metadata": {},
   "source": [
    "#### Splitting the full training data into valid set and train set"
   ]
  },
  {
   "cell_type": "code",
   "execution_count": 41,
   "id": "c0919354",
   "metadata": {},
   "outputs": [],
   "source": [
    "X_valid, X_train = X_train_full[:5000] / 255., X_train_full[5000:] / 255.  # normalizing the data as well\n",
    "y_valid, y_train = y_train_full[:5000], y_train_full[5000:]"
   ]
  },
  {
   "cell_type": "code",
   "execution_count": 42,
   "id": "44c9f35d",
   "metadata": {},
   "outputs": [],
   "source": [
    "# normalizing the test set as well\n",
    "X_test = X_test/255."
   ]
  },
  {
   "cell_type": "code",
   "execution_count": 48,
   "id": "4d80e9d7",
   "metadata": {},
   "outputs": [],
   "source": [
    "LAYERS = [\n",
    "    tf.keras.layers.Flatten(input_shape = [28, 28], name=\"inputLayer\"),\n",
    "    tf.keras.layers.Dense(300, activation= \"relu\", name=\"hiddenLayer1\"),\n",
    "    tf.keras.layers.Dense(100, activation=\"relu\", name=\"hiddenLayer2\"),\n",
    "    tf.keras.layers.Dense(10, activation=\"softmax\", name=\"outputLayer\")\n",
    "]"
   ]
  },
  {
   "cell_type": "code",
   "execution_count": 49,
   "id": "ff7e2e32",
   "metadata": {},
   "outputs": [],
   "source": [
    "model_clf = tf.keras.models.Sequential(LAYERS)"
   ]
  },
  {
   "cell_type": "code",
   "execution_count": 50,
   "id": "a12fda00",
   "metadata": {},
   "outputs": [
    {
     "data": {
      "text/plain": [
       "[<keras.layers.core.flatten.Flatten at 0x7fa974306fb0>,\n",
       " <keras.layers.core.dense.Dense at 0x7fa9743059f0>,\n",
       " <keras.layers.core.dense.Dense at 0x7fa974304910>,\n",
       " <keras.layers.core.dense.Dense at 0x7fa974304160>]"
      ]
     },
     "execution_count": 50,
     "metadata": {},
     "output_type": "execute_result"
    }
   ],
   "source": [
    "# Check the layers present\n",
    "model_clf.layers"
   ]
  },
  {
   "cell_type": "code",
   "execution_count": 51,
   "id": "ec629859",
   "metadata": {},
   "outputs": [
    {
     "name": "stdout",
     "output_type": "stream",
     "text": [
      "Model: \"sequential_1\"\n",
      "_________________________________________________________________\n",
      " Layer (type)                Output Shape              Param #   \n",
      "=================================================================\n",
      " inputLayer (Flatten)        (None, 784)               0         \n",
      "                                                                 \n",
      " hiddenLayer1 (Dense)        (None, 300)               235500    \n",
      "                                                                 \n",
      " hiddenLayer2 (Dense)        (None, 100)               30100     \n",
      "                                                                 \n",
      " outputLayer (Dense)         (None, 10)                1010      \n",
      "                                                                 \n",
      "=================================================================\n",
      "Total params: 266,610\n",
      "Trainable params: 266,610\n",
      "Non-trainable params: 0\n",
      "_________________________________________________________________\n"
     ]
    }
   ],
   "source": [
    "model_clf.summary()"
   ]
  },
  {
   "cell_type": "markdown",
   "id": "c038063c",
   "metadata": {},
   "source": [
    " ### Detail on model summary() function"
   ]
  },
  {
   "cell_type": "markdown",
   "id": "21633338",
   "metadata": {},
   "source": [
    "In the first hidden layer there are 784 inputs from the output of inputLayer and there exists 300 hidden layer in firstLayer and each hidden layer consists of 1 bias unit so for 300 first hiddenLayer 300 bias units are present. Thus total number of trainable parameters in first hidden layer is 235500"
   ]
  },
  {
   "cell_type": "code",
   "execution_count": 56,
   "id": "f83fd43f",
   "metadata": {},
   "outputs": [
    {
     "data": {
      "text/plain": [
       "235500"
      ]
     },
     "execution_count": 56,
     "metadata": {},
     "output_type": "execute_result"
    }
   ],
   "source": [
    "# trainable parameters in first hidden layers\n",
    "(784 * 300) + 300\n",
    "\n",
    "# inputLayer * firstLayer + bias_on_first_layer "
   ]
  },
  {
   "cell_type": "code",
   "execution_count": 57,
   "id": "a3663c01",
   "metadata": {},
   "outputs": [
    {
     "data": {
      "text/plain": [
       "30100"
      ]
     },
     "execution_count": 57,
     "metadata": {},
     "output_type": "execute_result"
    }
   ],
   "source": [
    "# similary on the second layer\n",
    "(300*100 )+ 100"
   ]
  },
  {
   "cell_type": "code",
   "execution_count": 58,
   "id": "d0fe65f9",
   "metadata": {},
   "outputs": [
    {
     "data": {
      "text/plain": [
       "1010"
      ]
     },
     "execution_count": 58,
     "metadata": {},
     "output_type": "execute_result"
    }
   ],
   "source": [
    "(100 * 10)+10"
   ]
  },
  {
   "cell_type": "code",
   "execution_count": 59,
   "id": "944ee0fb",
   "metadata": {},
   "outputs": [
    {
     "data": {
      "text/plain": [
       "266610"
      ]
     },
     "execution_count": 59,
     "metadata": {},
     "output_type": "execute_result"
    }
   ],
   "source": [
    "np.sum(235500 + 30100 + 1010)"
   ]
  },
  {
   "cell_type": "markdown",
   "id": "781fb639",
   "metadata": {},
   "source": [
    "which is equal to the total params in the summary"
   ]
  },
  {
   "cell_type": "markdown",
   "id": "5fb5b978",
   "metadata": {},
   "source": [
    "Non-trainable params: 0, it is related to transferable learning"
   ]
  },
  {
   "cell_type": "code",
   "execution_count": 60,
   "id": "29bb3110",
   "metadata": {},
   "outputs": [
    {
     "data": {
      "text/plain": [
       "'hiddenLayer1'"
      ]
     },
     "execution_count": 60,
     "metadata": {},
     "output_type": "execute_result"
    }
   ],
   "source": [
    "# Get the name of the layer\n",
    "model_clf.layers[1].name"
   ]
  },
  {
   "cell_type": "code",
   "execution_count": 62,
   "id": "2c3ee01e",
   "metadata": {},
   "outputs": [
    {
     "data": {
      "text/plain": [
       "[array([[-0.05364365,  0.01846188, -0.05813631, ...,  0.05624901,\n",
       "         -0.05422705, -0.06778324],\n",
       "        [-0.04688134, -0.00997181,  0.04215924, ..., -0.05544278,\n",
       "          0.0743794 , -0.0347967 ],\n",
       "        [ 0.01905652,  0.06144479,  0.03858849, ..., -0.02896677,\n",
       "         -0.0210352 ,  0.04081136],\n",
       "        ...,\n",
       "        [-0.00398396,  0.06621632, -0.0248491 , ...,  0.02203511,\n",
       "          0.00453936, -0.07263738],\n",
       "        [-0.02561467,  0.02534   ,  0.04095051, ...,  0.00094381,\n",
       "         -0.03729843, -0.0069318 ],\n",
       "        [ 0.07003085,  0.01434973,  0.05684529, ...,  0.02070653,\n",
       "          0.04046685,  0.06093024]], dtype=float32),\n",
       " array([0., 0., 0., 0., 0., 0., 0., 0., 0., 0., 0., 0., 0., 0., 0., 0., 0.,\n",
       "        0., 0., 0., 0., 0., 0., 0., 0., 0., 0., 0., 0., 0., 0., 0., 0., 0.,\n",
       "        0., 0., 0., 0., 0., 0., 0., 0., 0., 0., 0., 0., 0., 0., 0., 0., 0.,\n",
       "        0., 0., 0., 0., 0., 0., 0., 0., 0., 0., 0., 0., 0., 0., 0., 0., 0.,\n",
       "        0., 0., 0., 0., 0., 0., 0., 0., 0., 0., 0., 0., 0., 0., 0., 0., 0.,\n",
       "        0., 0., 0., 0., 0., 0., 0., 0., 0., 0., 0., 0., 0., 0., 0., 0., 0.,\n",
       "        0., 0., 0., 0., 0., 0., 0., 0., 0., 0., 0., 0., 0., 0., 0., 0., 0.,\n",
       "        0., 0., 0., 0., 0., 0., 0., 0., 0., 0., 0., 0., 0., 0., 0., 0., 0.,\n",
       "        0., 0., 0., 0., 0., 0., 0., 0., 0., 0., 0., 0., 0., 0., 0., 0., 0.,\n",
       "        0., 0., 0., 0., 0., 0., 0., 0., 0., 0., 0., 0., 0., 0., 0., 0., 0.,\n",
       "        0., 0., 0., 0., 0., 0., 0., 0., 0., 0., 0., 0., 0., 0., 0., 0., 0.,\n",
       "        0., 0., 0., 0., 0., 0., 0., 0., 0., 0., 0., 0., 0., 0., 0., 0., 0.,\n",
       "        0., 0., 0., 0., 0., 0., 0., 0., 0., 0., 0., 0., 0., 0., 0., 0., 0.,\n",
       "        0., 0., 0., 0., 0., 0., 0., 0., 0., 0., 0., 0., 0., 0., 0., 0., 0.,\n",
       "        0., 0., 0., 0., 0., 0., 0., 0., 0., 0., 0., 0., 0., 0., 0., 0., 0.,\n",
       "        0., 0., 0., 0., 0., 0., 0., 0., 0., 0., 0., 0., 0., 0., 0., 0., 0.,\n",
       "        0., 0., 0., 0., 0., 0., 0., 0., 0., 0., 0., 0., 0., 0., 0., 0., 0.,\n",
       "        0., 0., 0., 0., 0., 0., 0., 0., 0., 0., 0.], dtype=float32)]"
      ]
     },
     "execution_count": 62,
     "metadata": {},
     "output_type": "execute_result"
    }
   ],
   "source": [
    "# Get the weights on the layer\n",
    "model_clf.layers[1].get_weights()"
   ]
  },
  {
   "cell_type": "code",
   "execution_count": 63,
   "id": "e88efb68",
   "metadata": {},
   "outputs": [],
   "source": [
    "# the above code returned the weights and biases as a whole. Let's separate it\n",
    "weights, biases = model_clf.layers[1].get_weights()"
   ]
  },
  {
   "cell_type": "code",
   "execution_count": 65,
   "id": "81c490fc",
   "metadata": {},
   "outputs": [
    {
     "data": {
      "text/plain": [
       "(784, 300)"
      ]
     },
     "execution_count": 65,
     "metadata": {},
     "output_type": "execute_result"
    }
   ],
   "source": [
    "weights.shape"
   ]
  },
  {
   "cell_type": "code",
   "execution_count": 66,
   "id": "60fd9d41",
   "metadata": {},
   "outputs": [
    {
     "data": {
      "text/plain": [
       "(300,)"
      ]
     },
     "execution_count": 66,
     "metadata": {},
     "output_type": "execute_result"
    }
   ],
   "source": [
    "biases.shape"
   ]
  },
  {
   "cell_type": "code",
   "execution_count": 67,
   "id": "1cdd3177",
   "metadata": {},
   "outputs": [],
   "source": [
    "LOSS_FUNCTION = \"sparse_categorical_crossentropy\"  # it is used for categorical set\n",
    "OPTIMIZER = \"SGD\"   \n",
    "METRICS = [\"accuracy\"]\n",
    "\n",
    "# model compilation\n",
    "model_clf.compile(loss=LOSS_FUNCTION, optimizer=OPTIMIZER, metrics=METRICS)"
   ]
  },
  {
   "cell_type": "code",
   "execution_count": 68,
   "id": "2b5ec7f5",
   "metadata": {},
   "outputs": [
    {
     "name": "stdout",
     "output_type": "stream",
     "text": [
      "Epoch 1/30\n",
      "1719/1719 [==============================] - 3s 1ms/step - loss: 0.5904 - accuracy: 0.8458 - val_loss: 0.3021 - val_accuracy: 0.9148\n",
      "Epoch 2/30\n",
      "1719/1719 [==============================] - 2s 1ms/step - loss: 0.2878 - accuracy: 0.9183 - val_loss: 0.2403 - val_accuracy: 0.9290\n",
      "Epoch 3/30\n",
      "1719/1719 [==============================] - 2s 1ms/step - loss: 0.2361 - accuracy: 0.9327 - val_loss: 0.1997 - val_accuracy: 0.9422\n",
      "Epoch 4/30\n",
      "1719/1719 [==============================] - 2s 1ms/step - loss: 0.2015 - accuracy: 0.9432 - val_loss: 0.1746 - val_accuracy: 0.9510\n",
      "Epoch 5/30\n",
      "1719/1719 [==============================] - 2s 1ms/step - loss: 0.1759 - accuracy: 0.9500 - val_loss: 0.1570 - val_accuracy: 0.9560\n",
      "Epoch 6/30\n",
      "1719/1719 [==============================] - 2s 1ms/step - loss: 0.1561 - accuracy: 0.9556 - val_loss: 0.1455 - val_accuracy: 0.9596\n",
      "Epoch 7/30\n",
      "1719/1719 [==============================] - 2s 1ms/step - loss: 0.1402 - accuracy: 0.9597 - val_loss: 0.1313 - val_accuracy: 0.9644\n",
      "Epoch 8/30\n",
      "1719/1719 [==============================] - 2s 1ms/step - loss: 0.1267 - accuracy: 0.9635 - val_loss: 0.1229 - val_accuracy: 0.9664\n",
      "Epoch 9/30\n",
      "1719/1719 [==============================] - 2s 1ms/step - loss: 0.1154 - accuracy: 0.9670 - val_loss: 0.1157 - val_accuracy: 0.9700\n",
      "Epoch 10/30\n",
      "1719/1719 [==============================] - 2s 1ms/step - loss: 0.1052 - accuracy: 0.9703 - val_loss: 0.1124 - val_accuracy: 0.9702\n",
      "Epoch 11/30\n",
      "1719/1719 [==============================] - 2s 1ms/step - loss: 0.0974 - accuracy: 0.9721 - val_loss: 0.1024 - val_accuracy: 0.9738\n",
      "Epoch 12/30\n",
      "1719/1719 [==============================] - 2s 1ms/step - loss: 0.0898 - accuracy: 0.9752 - val_loss: 0.0997 - val_accuracy: 0.9738\n",
      "Epoch 13/30\n",
      "1719/1719 [==============================] - 2s 1ms/step - loss: 0.0832 - accuracy: 0.9767 - val_loss: 0.0965 - val_accuracy: 0.9738\n",
      "Epoch 14/30\n",
      "1719/1719 [==============================] - 2s 1ms/step - loss: 0.0774 - accuracy: 0.9785 - val_loss: 0.0939 - val_accuracy: 0.9752\n",
      "Epoch 15/30\n",
      "1719/1719 [==============================] - 2s 1ms/step - loss: 0.0720 - accuracy: 0.9797 - val_loss: 0.0901 - val_accuracy: 0.9748\n",
      "Epoch 16/30\n",
      "1719/1719 [==============================] - 2s 1ms/step - loss: 0.0673 - accuracy: 0.9820 - val_loss: 0.0889 - val_accuracy: 0.9746\n",
      "Epoch 17/30\n",
      "1719/1719 [==============================] - 2s 1ms/step - loss: 0.0630 - accuracy: 0.9823 - val_loss: 0.0835 - val_accuracy: 0.9764\n",
      "Epoch 18/30\n",
      "1719/1719 [==============================] - 2s 1ms/step - loss: 0.0586 - accuracy: 0.9843 - val_loss: 0.0815 - val_accuracy: 0.9768\n",
      "Epoch 19/30\n",
      "1719/1719 [==============================] - 2s 1ms/step - loss: 0.0552 - accuracy: 0.9849 - val_loss: 0.0789 - val_accuracy: 0.9792\n",
      "Epoch 20/30\n",
      "1719/1719 [==============================] - 2s 1ms/step - loss: 0.0518 - accuracy: 0.9860 - val_loss: 0.0771 - val_accuracy: 0.9788\n",
      "Epoch 21/30\n",
      "1719/1719 [==============================] - 2s 1ms/step - loss: 0.0487 - accuracy: 0.9868 - val_loss: 0.0760 - val_accuracy: 0.9784\n",
      "Epoch 22/30\n",
      "1719/1719 [==============================] - 2s 1ms/step - loss: 0.0456 - accuracy: 0.9879 - val_loss: 0.0759 - val_accuracy: 0.9782\n",
      "Epoch 23/30\n",
      "1719/1719 [==============================] - 2s 1ms/step - loss: 0.0429 - accuracy: 0.9889 - val_loss: 0.0746 - val_accuracy: 0.9784\n",
      "Epoch 24/30\n",
      "1719/1719 [==============================] - 2s 1ms/step - loss: 0.0401 - accuracy: 0.9900 - val_loss: 0.0729 - val_accuracy: 0.9782\n",
      "Epoch 25/30\n",
      "1719/1719 [==============================] - 2s 1ms/step - loss: 0.0379 - accuracy: 0.9903 - val_loss: 0.0710 - val_accuracy: 0.9804\n",
      "Epoch 26/30\n",
      "1719/1719 [==============================] - 2s 1ms/step - loss: 0.0356 - accuracy: 0.9914 - val_loss: 0.0710 - val_accuracy: 0.9782\n",
      "Epoch 27/30\n",
      "1719/1719 [==============================] - 2s 1ms/step - loss: 0.0336 - accuracy: 0.9918 - val_loss: 0.0718 - val_accuracy: 0.9786\n",
      "Epoch 28/30\n",
      "1719/1719 [==============================] - 2s 1ms/step - loss: 0.0316 - accuracy: 0.9924 - val_loss: 0.0702 - val_accuracy: 0.9798\n",
      "Epoch 29/30\n",
      "1719/1719 [==============================] - 2s 1ms/step - loss: 0.0298 - accuracy: 0.9930 - val_loss: 0.0711 - val_accuracy: 0.9798\n",
      "Epoch 30/30\n",
      "1719/1719 [==============================] - 2s 1ms/step - loss: 0.0281 - accuracy: 0.9937 - val_loss: 0.0691 - val_accuracy: 0.9792\n"
     ]
    }
   ],
   "source": [
    "EPOCHS = 30\n",
    "VALIDATION = (X_valid, y_valid)\n",
    "\n",
    "EPOCHS = 30\n",
    "VALIDATION = (X_valid, y_valid) # validation data\n",
    "\n",
    "history = model_clf.fit(X_train, y_train, epochs=EPOCHS, validation_data=VALIDATION)"
   ]
  },
  {
   "cell_type": "markdown",
   "id": "be4f2be2",
   "metadata": {},
   "source": [
    "#### By default batch_size = 32\n",
    "* here total number of data is 55000\n",
    "- so when we 5000/32\n",
    "- it is nearly 1719 so we can se 1719 data is trained at each batch"
   ]
  },
  {
   "cell_type": "code",
   "execution_count": 69,
   "id": "ec6e2606",
   "metadata": {},
   "outputs": [
    {
     "data": {
      "text/plain": [
       "1718.75"
      ]
     },
     "execution_count": 69,
     "metadata": {},
     "output_type": "execute_result"
    }
   ],
   "source": [
    "55000/32"
   ]
  },
  {
   "cell_type": "code",
   "execution_count": 70,
   "id": "5c9bfff5",
   "metadata": {},
   "outputs": [
    {
     "data": {
      "text/plain": [
       "{'verbose': 1, 'epochs': 30, 'steps': 1719}"
      ]
     },
     "execution_count": 70,
     "metadata": {},
     "output_type": "execute_result"
    }
   ],
   "source": [
    "history.params"
   ]
  },
  {
   "cell_type": "code",
   "execution_count": 80,
   "id": "5d76e39c",
   "metadata": {},
   "outputs": [
    {
     "data": {
      "text/plain": [
       "{'loss': [0.5903763771057129,\n",
       "  0.2878490388393402,\n",
       "  0.23605068027973175,\n",
       "  0.2015010267496109,\n",
       "  0.17591701447963715,\n",
       "  0.15613070130348206,\n",
       "  0.140211284160614,\n",
       "  0.12672486901283264,\n",
       "  0.11538515985012054,\n",
       "  0.10523474961519241,\n",
       "  0.09741679579019547,\n",
       "  0.08979044109582901,\n",
       "  0.08319227397441864,\n",
       "  0.07737450301647186,\n",
       "  0.07200231403112411,\n",
       "  0.06733717024326324,\n",
       "  0.06300272047519684,\n",
       "  0.05858147144317627,\n",
       "  0.05522427707910538,\n",
       "  0.051809679716825485,\n",
       "  0.04869812726974487,\n",
       "  0.045585110783576965,\n",
       "  0.04288322851061821,\n",
       "  0.04014682024717331,\n",
       "  0.037898242473602295,\n",
       "  0.03555210307240486,\n",
       "  0.03363450989127159,\n",
       "  0.031602710485458374,\n",
       "  0.029759248718619347,\n",
       "  0.028127864003181458],\n",
       " 'accuracy': [0.8457818031311035,\n",
       "  0.9183090925216675,\n",
       "  0.9326545596122742,\n",
       "  0.9431818127632141,\n",
       "  0.9499818086624146,\n",
       "  0.9555636644363403,\n",
       "  0.9596909284591675,\n",
       "  0.9635454416275024,\n",
       "  0.966981828212738,\n",
       "  0.9703454375267029,\n",
       "  0.9720727205276489,\n",
       "  0.9752363562583923,\n",
       "  0.9767272472381592,\n",
       "  0.9784908890724182,\n",
       "  0.9797454476356506,\n",
       "  0.9819999933242798,\n",
       "  0.9823272824287415,\n",
       "  0.9843090772628784,\n",
       "  0.9848726987838745,\n",
       "  0.986018180847168,\n",
       "  0.9867636561393738,\n",
       "  0.987890899181366,\n",
       "  0.9889090657234192,\n",
       "  0.9900363683700562,\n",
       "  0.9902908802032471,\n",
       "  0.991381824016571,\n",
       "  0.9918363690376282,\n",
       "  0.9923818111419678,\n",
       "  0.9930363893508911,\n",
       "  0.9937454462051392],\n",
       " 'val_loss': [0.3020666837692261,\n",
       "  0.24030424654483795,\n",
       "  0.1996767222881317,\n",
       "  0.17464417219161987,\n",
       "  0.15701378881931305,\n",
       "  0.14548103511333466,\n",
       "  0.13130821287631989,\n",
       "  0.12290386855602264,\n",
       "  0.11572320759296417,\n",
       "  0.112419493496418,\n",
       "  0.10239987075328827,\n",
       "  0.09966912120580673,\n",
       "  0.09650667756795883,\n",
       "  0.09389033168554306,\n",
       "  0.09011676907539368,\n",
       "  0.08894991129636765,\n",
       "  0.08352594077587128,\n",
       "  0.08146104961633682,\n",
       "  0.07890456169843674,\n",
       "  0.07710753381252289,\n",
       "  0.07595182210206985,\n",
       "  0.07586000114679337,\n",
       "  0.0745595321059227,\n",
       "  0.07293068617582321,\n",
       "  0.07104689627885818,\n",
       "  0.0709991455078125,\n",
       "  0.07184243202209473,\n",
       "  0.07023867219686508,\n",
       "  0.07108907401561737,\n",
       "  0.06907694041728973],\n",
       " 'val_accuracy': [0.9147999882698059,\n",
       "  0.9290000200271606,\n",
       "  0.9422000050544739,\n",
       "  0.9509999752044678,\n",
       "  0.9559999704360962,\n",
       "  0.9595999717712402,\n",
       "  0.9643999934196472,\n",
       "  0.9664000272750854,\n",
       "  0.9700000286102295,\n",
       "  0.9702000021934509,\n",
       "  0.973800003528595,\n",
       "  0.973800003528595,\n",
       "  0.973800003528595,\n",
       "  0.9751999974250793,\n",
       "  0.9747999906539917,\n",
       "  0.9746000170707703,\n",
       "  0.9764000177383423,\n",
       "  0.9768000245094299,\n",
       "  0.979200005531311,\n",
       "  0.9787999987602234,\n",
       "  0.9783999919891357,\n",
       "  0.9782000184059143,\n",
       "  0.9783999919891357,\n",
       "  0.9782000184059143,\n",
       "  0.980400025844574,\n",
       "  0.9782000184059143,\n",
       "  0.978600025177002,\n",
       "  0.9797999858856201,\n",
       "  0.9797999858856201,\n",
       "  0.979200005531311]}"
      ]
     },
     "execution_count": 80,
     "metadata": {},
     "output_type": "execute_result"
    }
   ],
   "source": [
    "history.history # returns 30 loss values as well as accuracy val_loss and val_accuracy at each epoch"
   ]
  },
  {
   "cell_type": "code",
   "execution_count": 104,
   "id": "3b70af00",
   "metadata": {},
   "outputs": [
    {
     "data": {
      "text/plain": [
       "dict_keys(['loss', 'accuracy', 'val_loss', 'val_accuracy'])"
      ]
     },
     "execution_count": 104,
     "metadata": {},
     "output_type": "execute_result"
    }
   ],
   "source": [
    "history.history.keys()"
   ]
  },
  {
   "cell_type": "code",
   "execution_count": 81,
   "id": "b87b7e67",
   "metadata": {},
   "outputs": [
    {
     "data": {
      "text/html": [
       "<div>\n",
       "<style scoped>\n",
       "    .dataframe tbody tr th:only-of-type {\n",
       "        vertical-align: middle;\n",
       "    }\n",
       "\n",
       "    .dataframe tbody tr th {\n",
       "        vertical-align: top;\n",
       "    }\n",
       "\n",
       "    .dataframe thead th {\n",
       "        text-align: right;\n",
       "    }\n",
       "</style>\n",
       "<table border=\"1\" class=\"dataframe\">\n",
       "  <thead>\n",
       "    <tr style=\"text-align: right;\">\n",
       "      <th></th>\n",
       "      <th>loss</th>\n",
       "      <th>accuracy</th>\n",
       "      <th>val_loss</th>\n",
       "      <th>val_accuracy</th>\n",
       "    </tr>\n",
       "  </thead>\n",
       "  <tbody>\n",
       "    <tr>\n",
       "      <th>0</th>\n",
       "      <td>0.590376</td>\n",
       "      <td>0.845782</td>\n",
       "      <td>0.302067</td>\n",
       "      <td>0.9148</td>\n",
       "    </tr>\n",
       "    <tr>\n",
       "      <th>1</th>\n",
       "      <td>0.287849</td>\n",
       "      <td>0.918309</td>\n",
       "      <td>0.240304</td>\n",
       "      <td>0.9290</td>\n",
       "    </tr>\n",
       "    <tr>\n",
       "      <th>2</th>\n",
       "      <td>0.236051</td>\n",
       "      <td>0.932655</td>\n",
       "      <td>0.199677</td>\n",
       "      <td>0.9422</td>\n",
       "    </tr>\n",
       "    <tr>\n",
       "      <th>3</th>\n",
       "      <td>0.201501</td>\n",
       "      <td>0.943182</td>\n",
       "      <td>0.174644</td>\n",
       "      <td>0.9510</td>\n",
       "    </tr>\n",
       "    <tr>\n",
       "      <th>4</th>\n",
       "      <td>0.175917</td>\n",
       "      <td>0.949982</td>\n",
       "      <td>0.157014</td>\n",
       "      <td>0.9560</td>\n",
       "    </tr>\n",
       "    <tr>\n",
       "      <th>5</th>\n",
       "      <td>0.156131</td>\n",
       "      <td>0.955564</td>\n",
       "      <td>0.145481</td>\n",
       "      <td>0.9596</td>\n",
       "    </tr>\n",
       "    <tr>\n",
       "      <th>6</th>\n",
       "      <td>0.140211</td>\n",
       "      <td>0.959691</td>\n",
       "      <td>0.131308</td>\n",
       "      <td>0.9644</td>\n",
       "    </tr>\n",
       "    <tr>\n",
       "      <th>7</th>\n",
       "      <td>0.126725</td>\n",
       "      <td>0.963545</td>\n",
       "      <td>0.122904</td>\n",
       "      <td>0.9664</td>\n",
       "    </tr>\n",
       "    <tr>\n",
       "      <th>8</th>\n",
       "      <td>0.115385</td>\n",
       "      <td>0.966982</td>\n",
       "      <td>0.115723</td>\n",
       "      <td>0.9700</td>\n",
       "    </tr>\n",
       "    <tr>\n",
       "      <th>9</th>\n",
       "      <td>0.105235</td>\n",
       "      <td>0.970345</td>\n",
       "      <td>0.112419</td>\n",
       "      <td>0.9702</td>\n",
       "    </tr>\n",
       "    <tr>\n",
       "      <th>10</th>\n",
       "      <td>0.097417</td>\n",
       "      <td>0.972073</td>\n",
       "      <td>0.102400</td>\n",
       "      <td>0.9738</td>\n",
       "    </tr>\n",
       "    <tr>\n",
       "      <th>11</th>\n",
       "      <td>0.089790</td>\n",
       "      <td>0.975236</td>\n",
       "      <td>0.099669</td>\n",
       "      <td>0.9738</td>\n",
       "    </tr>\n",
       "    <tr>\n",
       "      <th>12</th>\n",
       "      <td>0.083192</td>\n",
       "      <td>0.976727</td>\n",
       "      <td>0.096507</td>\n",
       "      <td>0.9738</td>\n",
       "    </tr>\n",
       "    <tr>\n",
       "      <th>13</th>\n",
       "      <td>0.077375</td>\n",
       "      <td>0.978491</td>\n",
       "      <td>0.093890</td>\n",
       "      <td>0.9752</td>\n",
       "    </tr>\n",
       "    <tr>\n",
       "      <th>14</th>\n",
       "      <td>0.072002</td>\n",
       "      <td>0.979745</td>\n",
       "      <td>0.090117</td>\n",
       "      <td>0.9748</td>\n",
       "    </tr>\n",
       "    <tr>\n",
       "      <th>15</th>\n",
       "      <td>0.067337</td>\n",
       "      <td>0.982000</td>\n",
       "      <td>0.088950</td>\n",
       "      <td>0.9746</td>\n",
       "    </tr>\n",
       "    <tr>\n",
       "      <th>16</th>\n",
       "      <td>0.063003</td>\n",
       "      <td>0.982327</td>\n",
       "      <td>0.083526</td>\n",
       "      <td>0.9764</td>\n",
       "    </tr>\n",
       "    <tr>\n",
       "      <th>17</th>\n",
       "      <td>0.058581</td>\n",
       "      <td>0.984309</td>\n",
       "      <td>0.081461</td>\n",
       "      <td>0.9768</td>\n",
       "    </tr>\n",
       "    <tr>\n",
       "      <th>18</th>\n",
       "      <td>0.055224</td>\n",
       "      <td>0.984873</td>\n",
       "      <td>0.078905</td>\n",
       "      <td>0.9792</td>\n",
       "    </tr>\n",
       "    <tr>\n",
       "      <th>19</th>\n",
       "      <td>0.051810</td>\n",
       "      <td>0.986018</td>\n",
       "      <td>0.077108</td>\n",
       "      <td>0.9788</td>\n",
       "    </tr>\n",
       "    <tr>\n",
       "      <th>20</th>\n",
       "      <td>0.048698</td>\n",
       "      <td>0.986764</td>\n",
       "      <td>0.075952</td>\n",
       "      <td>0.9784</td>\n",
       "    </tr>\n",
       "    <tr>\n",
       "      <th>21</th>\n",
       "      <td>0.045585</td>\n",
       "      <td>0.987891</td>\n",
       "      <td>0.075860</td>\n",
       "      <td>0.9782</td>\n",
       "    </tr>\n",
       "    <tr>\n",
       "      <th>22</th>\n",
       "      <td>0.042883</td>\n",
       "      <td>0.988909</td>\n",
       "      <td>0.074560</td>\n",
       "      <td>0.9784</td>\n",
       "    </tr>\n",
       "    <tr>\n",
       "      <th>23</th>\n",
       "      <td>0.040147</td>\n",
       "      <td>0.990036</td>\n",
       "      <td>0.072931</td>\n",
       "      <td>0.9782</td>\n",
       "    </tr>\n",
       "    <tr>\n",
       "      <th>24</th>\n",
       "      <td>0.037898</td>\n",
       "      <td>0.990291</td>\n",
       "      <td>0.071047</td>\n",
       "      <td>0.9804</td>\n",
       "    </tr>\n",
       "    <tr>\n",
       "      <th>25</th>\n",
       "      <td>0.035552</td>\n",
       "      <td>0.991382</td>\n",
       "      <td>0.070999</td>\n",
       "      <td>0.9782</td>\n",
       "    </tr>\n",
       "    <tr>\n",
       "      <th>26</th>\n",
       "      <td>0.033635</td>\n",
       "      <td>0.991836</td>\n",
       "      <td>0.071842</td>\n",
       "      <td>0.9786</td>\n",
       "    </tr>\n",
       "    <tr>\n",
       "      <th>27</th>\n",
       "      <td>0.031603</td>\n",
       "      <td>0.992382</td>\n",
       "      <td>0.070239</td>\n",
       "      <td>0.9798</td>\n",
       "    </tr>\n",
       "    <tr>\n",
       "      <th>28</th>\n",
       "      <td>0.029759</td>\n",
       "      <td>0.993036</td>\n",
       "      <td>0.071089</td>\n",
       "      <td>0.9798</td>\n",
       "    </tr>\n",
       "    <tr>\n",
       "      <th>29</th>\n",
       "      <td>0.028128</td>\n",
       "      <td>0.993745</td>\n",
       "      <td>0.069077</td>\n",
       "      <td>0.9792</td>\n",
       "    </tr>\n",
       "  </tbody>\n",
       "</table>\n",
       "</div>"
      ],
      "text/plain": [
       "        loss  accuracy  val_loss  val_accuracy\n",
       "0   0.590376  0.845782  0.302067        0.9148\n",
       "1   0.287849  0.918309  0.240304        0.9290\n",
       "2   0.236051  0.932655  0.199677        0.9422\n",
       "3   0.201501  0.943182  0.174644        0.9510\n",
       "4   0.175917  0.949982  0.157014        0.9560\n",
       "5   0.156131  0.955564  0.145481        0.9596\n",
       "6   0.140211  0.959691  0.131308        0.9644\n",
       "7   0.126725  0.963545  0.122904        0.9664\n",
       "8   0.115385  0.966982  0.115723        0.9700\n",
       "9   0.105235  0.970345  0.112419        0.9702\n",
       "10  0.097417  0.972073  0.102400        0.9738\n",
       "11  0.089790  0.975236  0.099669        0.9738\n",
       "12  0.083192  0.976727  0.096507        0.9738\n",
       "13  0.077375  0.978491  0.093890        0.9752\n",
       "14  0.072002  0.979745  0.090117        0.9748\n",
       "15  0.067337  0.982000  0.088950        0.9746\n",
       "16  0.063003  0.982327  0.083526        0.9764\n",
       "17  0.058581  0.984309  0.081461        0.9768\n",
       "18  0.055224  0.984873  0.078905        0.9792\n",
       "19  0.051810  0.986018  0.077108        0.9788\n",
       "20  0.048698  0.986764  0.075952        0.9784\n",
       "21  0.045585  0.987891  0.075860        0.9782\n",
       "22  0.042883  0.988909  0.074560        0.9784\n",
       "23  0.040147  0.990036  0.072931        0.9782\n",
       "24  0.037898  0.990291  0.071047        0.9804\n",
       "25  0.035552  0.991382  0.070999        0.9782\n",
       "26  0.033635  0.991836  0.071842        0.9786\n",
       "27  0.031603  0.992382  0.070239        0.9798\n",
       "28  0.029759  0.993036  0.071089        0.9798\n",
       "29  0.028128  0.993745  0.069077        0.9792"
      ]
     },
     "execution_count": 81,
     "metadata": {},
     "output_type": "execute_result"
    }
   ],
   "source": [
    "pd.DataFrame(history.history)"
   ]
  },
  {
   "cell_type": "markdown",
   "id": "296840bb",
   "metadata": {},
   "source": [
    "#### Ploting the data"
   ]
  },
  {
   "cell_type": "code",
   "execution_count": 82,
   "id": "9b6f62a0",
   "metadata": {},
   "outputs": [
    {
     "data": {
      "image/png": "[encoded data removed]",
      "text/plain": [
       "<Figure size 720x504 with 1 Axes>"
      ]
     },
     "metadata": {
      "needs_background": "light"
     },
     "output_type": "display_data"
    }
   ],
   "source": [
    "pd.DataFrame(history.history).plot(figsize=(10,7))\n",
    "plt.grid(True)\n",
    "plt.show()"
   ]
  },
  {
   "cell_type": "markdown",
   "id": "1c62e487",
   "metadata": {},
   "source": [
    "#### Evaluating the model using test data"
   ]
  },
  {
   "cell_type": "code",
   "execution_count": 84,
   "id": "26b20064",
   "metadata": {},
   "outputs": [
    {
     "name": "stdout",
     "output_type": "stream",
     "text": [
      "313/313 [==============================] - 0s 687us/step - loss: 0.0713 - accuracy: 0.9784\n"
     ]
    },
    {
     "data": {
      "text/plain": [
       "[0.07132002711296082, 0.9783999919891357]"
      ]
     },
     "execution_count": 84,
     "metadata": {},
     "output_type": "execute_result"
    }
   ],
   "source": [
    "model_clf.evaluate(X_test, y_test) # returns [loss, accuracy]"
   ]
  },
  {
   "cell_type": "code",
   "execution_count": 97,
   "id": "f1a61f53",
   "metadata": {},
   "outputs": [
    {
     "data": {
      "text/plain": [
       "array([[0.   , 0.   , 0.   , 0.001, 0.   , 0.   , 0.   , 0.999, 0.   ,\n",
       "        0.   ],\n",
       "       [0.   , 0.   , 1.   , 0.   , 0.   , 0.   , 0.   , 0.   , 0.   ,\n",
       "        0.   ],\n",
       "       [0.   , 0.998, 0.   , 0.   , 0.   , 0.   , 0.   , 0.001, 0.   ,\n",
       "        0.   ]], dtype=float32)"
      ]
     },
     "execution_count": 97,
     "metadata": {},
     "output_type": "execute_result"
    }
   ],
   "source": [
    "X_new = X_test[:3]\n",
    "\n",
    "y_prob = model_clf.predict(X_new)\n",
    "\n",
    "y_prob.round(3)"
   ]
  },
  {
   "cell_type": "code",
   "execution_count": 98,
   "id": "17c9cee8",
   "metadata": {},
   "outputs": [
    {
     "data": {
      "text/plain": [
       "(3, 10)"
      ]
     },
     "execution_count": 98,
     "metadata": {},
     "output_type": "execute_result"
    }
   ],
   "source": [
    "y_prob.shape # (row, col)"
   ]
  },
  {
   "cell_type": "code",
   "execution_count": 105,
   "id": "d510fbb7",
   "metadata": {},
   "outputs": [
    {
     "data": {
      "text/plain": [
       "array([7, 2, 1])"
      ]
     },
     "execution_count": 105,
     "metadata": {},
     "output_type": "execute_result"
    }
   ],
   "source": [
    "Y_pred = np.argmax(y_prob, axis= -1)  # Returns the indices of the maximum values along an axis.\n",
    "# -1 is written to get the max value of each array\n",
    "\n",
    "Y_pred"
   ]
  },
  {
   "cell_type": "code",
   "execution_count": 103,
   "id": "488b693b",
   "metadata": {},
   "outputs": [
    {
     "data": {
      "image/png": "[encoded data removed]",
      "text/plain": [
       "<Figure size 432x288 with 1 Axes>"
      ]
     },
     "metadata": {
      "needs_background": "light"
     },
     "output_type": "display_data"
    },
    {
     "name": "stdout",
     "output_type": "stream",
     "text": [
      "****************************************\n"
     ]
    },
    {
     "data": {
      "image/png": "[encoded data removed]",
      "text/plain": [
       "<Figure size 432x288 with 1 Axes>"
      ]
     },
     "metadata": {
      "needs_background": "light"
     },
     "output_type": "display_data"
    },
    {
     "name": "stdout",
     "output_type": "stream",
     "text": [
      "****************************************\n"
     ]
    },
    {
     "data": {
      "image/png": "[encoded data removed]",
      "text/plain": [
       "<Figure size 432x288 with 1 Axes>"
      ]
     },
     "metadata": {
      "needs_background": "light"
     },
     "output_type": "display_data"
    },
    {
     "name": "stdout",
     "output_type": "stream",
     "text": [
      "****************************************\n"
     ]
    }
   ],
   "source": [
    "for img_array, pred, actual in zip(X_new, Y_pred, y_test[:3]):\n",
    "    plt.imshow(img_array, cmap=\"binary\")\n",
    "    plt.title(f\"predicted: {pred}, Actual: {actual}\")\n",
    "    plt.axis(\"off\")\n",
    "    plt.show()\n",
    "    print(\"*\"*40)"
   ]
  },
  {
   "cell_type": "code",
   "execution_count": null,
   "id": "01617c73",
   "metadata": {},
   "outputs": [],
   "source": []
  }
 ],
 "metadata": {
  "kernelspec": {
   "display_name": "Python 3 (ipykernel)",
   "language": "python",
   "name": "python3"
  },
  "language_info": {
   "codemirror_mode": {
    "name": "ipython",
    "version": 3
   },
   "file_extension": ".py",
   "mimetype": "text/x-python",
   "name": "python",
   "nbconvert_exporter": "python",
   "pygments_lexer": "ipython3",
   "version": "3.10.4"
  }
 },
 "nbformat": 4,
 "nbformat_minor": 5
}
